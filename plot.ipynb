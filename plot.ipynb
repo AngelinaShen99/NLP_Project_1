{
 "cells": [
  {
   "cell_type": "code",
   "execution_count": null,
   "metadata": {},
   "outputs": [],
   "source": [
    "from tqdm import tqdm\n",
    "import pandas as pd\n",
    "import numpy as np\n",
    "import matplotlib.pyplot as plt\n",
    "\n",
    "\n",
    "def plot_portion(FN_portion, H4N_portion, returns):\n",
    "    df = pd.DataFrame({'FN_portion':FN_portion, 'H4N_portion':H4N_portion, 'return':returns})\n",
    "\n",
    "    def get_y(file):\n",
    "        gaps = np.linspace(0,1,6)\n",
    "        FN_portion_qt = np.quantile(df[file], gaps)\n",
    "        FN_portion_m = np.zeros(5)\n",
    "        for i in range(5):\n",
    "            fn1 = df[file]<FN_portion_qt[i+1]\n",
    "            fn2 = df[file]>=FN_portion_qt[i]\n",
    "            FN_portion_m[i] = np.mean(df[fn1 & fn2]['return'])\n",
    "        return FN_portion_m\n",
    "\n",
    "    FinNeg = get_y('FN_portion')\n",
    "    H4N = get_y('H4N_portion')\n",
    "\n",
    "    x = [\"Low\", 2, 3, 4, \"High\"]\n",
    "    plt.plot(x, FinNeg, label = \"FinNeg\")\n",
    "    plt.plot(x, H4N, label = \"H4N\")\n",
    "    plt.title(\"Simple Proportion Measure\")\n",
    "    plt.legend()\n",
    "    plt.show()\n"
   ]
  },
  {
   "cell_type": "code",
   "execution_count": null,
   "metadata": {},
   "outputs": [],
   "source": [
    "def plot_tfidf(FN_portion, H4N_portion, returns):\n",
    "    df = pd.DataFrame({'FN_portion':FN_portion, 'H4N_portion':H4N_portion, 'return':returns})\n",
    "\n",
    "    def get_y(file):\n",
    "        gaps = np.linspace(0,1,6)\n",
    "        FN_portion_qt = np.quantile(df[file], gaps)\n",
    "        FN_portion_m = np.zeros(5)\n",
    "        for i in range(5):\n",
    "            fn1 = df[file]<FN_portion_qt[i+1]\n",
    "            fn2 = df[file]>=FN_portion_qt[i]\n",
    "            FN_portion_m[i] = np.mean(df[fn1 & fn2]['return'])\n",
    "        return FN_portion_m\n",
    "\n",
    "    FinNeg = get_y('FN_portion')\n",
    "    H4N = get_y('H4N_portion')\n",
    "\n",
    "    x = [\"Low\", 2, 3, 4, \"High\"]\n",
    "    plt.plot(x, FinNeg, label = \"FinNeg\")\n",
    "    plt.plot(x, H4N, label = \"H4N\")\n",
    "    plt.title(\"TF-IDF Measure\")\n",
    "    plt.legend()\n",
    "    plt.show()"
   ]
  },
  {
   "cell_type": "code",
   "execution_count": null,
   "metadata": {},
   "outputs": [],
   "source": [
    "import pandas as pd\n",
    "import os\n",
    "import glob\n",
    "\n",
    "path = os.getcwd()\n",
    "csv_files = glob.glob(os.path.join(path, \"*.csv\"))\n",
    "df = pd.DataFrame()\n",
    "\n",
    "for f in csv_files:\n",
    "    df = pd.concat([df, pd.read_csv(f)])\n",
    "\n",
    "df.drop(columns = [\"Unnamed: 0\"])"
   ]
  },
  {
   "cell_type": "code",
   "execution_count": null,
   "metadata": {},
   "outputs": [],
   "source": [
    "FN_portion = df[\"FN_portion\"]\n",
    "H4N_portion = df[\"H4N_portion\"]\n",
    "FN_tfidf = df[\"FN_tfidf\"]\n",
    "H4N_tfidf = df[\"H_tfidf\"]\n",
    "returns = df[\"return\"]\n",
    "\n",
    "plot_portion(FN_portion, H4N_portion, returns)\n",
    "plot_tfidf(FN_tfidf, H4N_tfidf, returns)"
   ]
  },
  {
   "cell_type": "code",
   "execution_count": null,
   "metadata": {},
   "outputs": [],
   "source": []
  }
 ],
 "metadata": {
  "colab": {
   "collapsed_sections": [],
   "provenance": []
  },
  "kernelspec": {
   "display_name": "Python 3.10.1 64-bit",
   "language": "python",
   "name": "python3"
  },
  "language_info": {
   "codemirror_mode": {
    "name": "ipython",
    "version": 3
   },
   "file_extension": ".py",
   "mimetype": "text/x-python",
   "name": "python",
   "nbconvert_exporter": "python",
   "pygments_lexer": "ipython3",
   "version": "3.10.1"
  },
  "vscode": {
   "interpreter": {
    "hash": "98590ff4fe04c8543246b2a01debd3de3c5ca9b666f43f1fa87d5110c692004c"
   }
  }
 },
 "nbformat": 4,
 "nbformat_minor": 1
}
